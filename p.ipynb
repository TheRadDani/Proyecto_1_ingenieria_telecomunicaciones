{
 "cells": [
  {
   "cell_type": "code",
   "execution_count": null,
   "source": [
    "import librosa\n",
    "import librosa.display\n",
    "import IPython.display as ipd0\n",
    "from IPython.display import Audio\n",
    "import os\n",
    "import scipy.io.wavfile as waves #biblioteca para procesar audio .wav en python\n",
    "import matplotlib.pyplot as plt #biblioteca para graficar\n",
    "import scipy as sp # for signal processing\n",
    "from scipy import signal\n",
    "import IPython.display as ipd\n",
    "import numpy as np\n",
    "import random\n",
    "import makelab\n",
    "from makelab import signal\n",
    "from makelab import audio\n",
    "%matplotlib inline"
   ],
   "outputs": [],
   "metadata": {}
  },
  {
   "cell_type": "markdown",
   "source": [
    "Libreria makelab diseñada y escrita por el profesor Jon E. Froehlich de la Univerdidad de Washington con ayuda de estudiantes con permiso de uso libre para fines educativos"
   ],
   "metadata": {}
  },
  {
   "cell_type": "code",
   "execution_count": null,
   "source": [
    "# INGRESO\r\n",
    "# archivo = input('archivo de audio: ')\r\n",
    "'''\r\n",
    "arch=input('ingrese el nombre del archivo: ')\r\n",
    "archivo=(arch +'.wav')\r\n",
    "'''\r\n",
    "archivo = 'Alarm01.wav' #archivo de entrada"
   ],
   "outputs": [],
   "metadata": {}
  },
  {
   "cell_type": "code",
   "execution_count": null,
   "source": [
    "# PROCEDIMIENTO\r\n",
    "fs, sonido = sp.io.wavfile.read(archivo) #biblioteca lee el archivo de audio y devuelve la frecuencia de muestreo y la cuantizacion para la cantidad de muestras del (monofonoico y estrereo)\r\n",
    "tamano_sonido = len(sonido)#devuelve la cantidad de simbolos v(k) del audio digitalizado\r\n",
    "#trabajar con un solo canal de audio\r\n",
    "tamano = np.shape(sonido) #divide ambos vectores de canales\r\n",
    "#muestras = tamano[0]\r\n",
    "m = len(tamano) #cantidad de canales de las muestras de audio\r\n",
    "canales = 1  # monofónico\r\n",
    "if (m>1):  # estéreo\r\n",
    "    canales = tamano[1]\r\n",
    "# experimento con un canal\r\n",
    "if (canales>1):\r\n",
    "    canal = 0\r\n",
    "    vT = sonido[:,canal] \r\n",
    "else:\r\n",
    "    vT = sonido\r\n",
    "#vT corresponde a la senal cuantizada para el canal de audio seleccionado\r\n",
    "print(vT)\r\n",
    "longitud_del_audio_en_sec=vT.shape[0]/fs\r\n",
    "bits = 16 #cantidad de bits para cuantizacion\r\n"
   ],
   "outputs": [],
   "metadata": {}
  },
  {
   "cell_type": "code",
   "execution_count": null,
   "source": [
    "print(f\"Frecuencia de muestreo: {fs} Hz\")\r\n",
    "print(f\"Numero de canales de senal = {len(sonido.shape)}\")\r\n",
    "print(f\"Cantidad de muestras del canal: {sonido.shape[0]}\")\r\n",
    "print(f\"Duracion del audio = {longitud_del_audio_en_sec}s\")\r\n",
    "print(f\"{bits}-Los niveles de cuantizacion van de -{2**(bits - 1)} a {2**(bits - 1) - 1}\")\r\n",
    "print(f\"Valor de amplitutud maximo de la senal de audio: {np.max(vT)}\")"
   ],
   "outputs": [],
   "metadata": {}
  },
  {
   "cell_type": "markdown",
   "source": [
    "## Senal con nivel de cuantizacion original"
   ],
   "metadata": {}
  },
  {
   "cell_type": "code",
   "execution_count": null,
   "source": [
    "xlim_zoom = (40000, 80000) # zoom de la senal muestreada\r\n",
    "makelab.signal.plot_signal(vT, fs, bits, xlim_zoom = xlim_zoom) #plotear vector de bits que muestran los valores cuantizados vs la cantidad de muestras y vs el tiempo\r\n",
    "ipd.Audio(vT, rate=fs)"
   ],
   "outputs": [],
   "metadata": {}
  },
  {
   "cell_type": "code",
   "execution_count": null,
   "source": [
    "# Codificador\r\n",
    "# Los archivos de audio .wav codificados en PCM utilizan una cuantizacion\r\n",
    "# en 16 bits con rango = 1, es decir, usan 65536 valores de amplitud, desde \r\n",
    "# -32768 hasta 32767. Entonces, para ser fiel al formato, se adoptan estos\r\n",
    "# parametros.\r\n",
    "\r\n",
    "vT = senal_real # Señal muestreada\r\n",
    "\r\n",
    "# Se le asigna un número decimal a cada una de las muestras\r\n",
    "# Se considera: -32768 = 0 ... 32767 = 65536\r\n",
    "bkT = np.zeros(len(vT))\r\n",
    "\r\n",
    "# Conversión de muestras a símbolos\r\n",
    "for i in range(0,len(bkT)):\r\n",
    "    bkT[i] = (2**16)/2 + vT[i]\r\n",
    "    \r\n",
    "# Se aplica una codificacion de longitud fija convirtiendo\r\n",
    "# el numero decimal de cada simbolo a binario de 16 bits\r\n",
    "\r\n",
    "bfT = np.zeros(16*len(bkT)) # vector para los bits\r\n",
    "\r\n",
    "# Conversión de decimal a binario de los simbolos\r\n",
    "for i in range(0,len(bkT)):\r\n",
    "    num = bkT[i]\r\n",
    "    for j in range(0,16):\r\n",
    "        if num >= 2**(16-1-j):\r\n",
    "            bfT[16*i+j] = 1\r\n",
    "            num = num - 2**(16-1-j)\r\n",
    "        else:\r\n",
    "            bfT[16*i+j] = 0\r\n",
    "\r\n",
    "bfT = bfT.astype(int) # bits a la salida del codificador\r\n",
    "\r\n",
    "# Asumiendo un canal ideal:\r\n",
    "bfR = bfT\r\n",
    "\r\n",
    "#-----------------------------------------------------\r\n",
    "\r\n",
    "# Decodificador\r\n",
    "\r\n",
    "# Para convertir bits a símbolos:\r\n",
    "cant_simb = 2**16 # Cantidad de símbolos\r\n",
    "bkR = np.zeros(len(t)) # Arreglo para los símbolos\r\n",
    "\r\n",
    "# Pasar de binario a decimal\r\n",
    "for i in range(0,len(bkR)):\r\n",
    "    for j in range(0,16):\r\n",
    "        bkR[i] += bfR[16*i+j]*(2**(16-j-1)) \r\n",
    "    \r\n",
    "bkR = bkR.astype(int) # Símbolos\r\n",
    "\r\n",
    "# Convertir de símbolos a muestras\r\n",
    "vR = np.zeros(len(bkR)) # vector para las muestras recuperadas\r\n",
    "\r\n",
    "for i in range(0,len(vR)):\r\n",
    "    vR[i] = -(2**16)/2 + bkR[i]\r\n",
    "    \r\n",
    "vR = vR.astype(int)\r\n",
    "\r\n",
    "# Despliegue de resultados\r\n",
    "\r\n",
    "t_bits = np.arange(0,len(bfT))\r\n",
    "plt.figure(1)\r\n",
    "plt.suptitle('Bits a la salida del codificador')\r\n",
    "plt.plot(t_bits, bfT, drawstyle='steps-pre')\r\n",
    "plt.xlabel('número de bit')\r\n",
    "plt.ylabel('bits')\r\n",
    "plt.xlim(1500,1650)\r\n",
    "plt.show()"
   ],
   "outputs": [],
   "metadata": {}
  },
  {
   "cell_type": "code",
   "execution_count": null,
   "source": [
    "makelab.signal.plot_signal(vR, fs, bits, xlim_zoom = xlim_zoom)\n",
    "ipd.Audio(vR, rate=fs)"
   ],
   "outputs": [],
   "metadata": {}
  },
  {
   "cell_type": "code",
   "execution_count": null,
   "source": [
    "#escribir y guardar archivo .wav\n",
    "print('archivo de parte[] grabado...')\n",
    "waves.write('resultado.wav', fs, vR.astype(np.int16))"
   ],
   "outputs": [],
   "metadata": {}
  }
 ],
 "metadata": {
  "interpreter": {
   "hash": "b3ba2566441a7c06988d0923437866b63cedc61552a5af99d1f4fb67d367b25f"
  },
  "kernelspec": {
   "name": "python3",
   "language": "python",
   "display_name": "Python 3"
  },
  "language_info": {
   "codemirror_mode": {
    "name": "ipython",
    "version": 3
   },
   "file_extension": ".py",
   "mimetype": "text/x-python",
   "name": "python",
   "nbconvert_exporter": "python",
   "pygments_lexer": "ipython3",
   "version": "3.7.3"
  }
 },
 "nbformat": 4,
 "nbformat_minor": 2
}